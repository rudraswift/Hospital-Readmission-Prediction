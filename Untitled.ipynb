{
 "cells": [
  {
   "cell_type": "code",
   "execution_count": 3,
   "id": "ca151fbc-5806-41bc-9792-0914a652f334",
   "metadata": {},
   "outputs": [],
   "source": [
    "import numpy as np\n",
    "import pandas as pd\n",
    "import matplotlib.pyplot as plt\n",
    "import seaborn as sns\n",
    "from sklearn.preprocessing import LabelEncoder\n",
    "from sklearn.model_selection import train_test_split"
   ]
  },
  {
   "cell_type": "code",
   "execution_count": 4,
   "id": "56a6813c-7e5b-4de9-997f-ff550d309206",
   "metadata": {},
   "outputs": [
    {
     "name": "stdout",
     "output_type": "stream",
     "text": [
      "            Name  Age  Gender Blood Type Medical Condition Date of Admission  \\\n",
      "0  Bobby JacksOn   30    Male         B-            Cancer        2024-01-31   \n",
      "1   LesLie TErRy   62    Male         A+           Obesity        2019-08-20   \n",
      "2    DaNnY sMitH   76  Female         A-           Obesity        2022-09-22   \n",
      "3   andrEw waTtS   28  Female         O+          Diabetes        2020-11-18   \n",
      "4  adrIENNE bEll   43  Female        AB+            Cancer        2022-09-19   \n",
      "\n",
      "             Doctor                    Hospital Insurance Provider  \\\n",
      "0     Matthew Smith             Sons and Miller         Blue Cross   \n",
      "1   Samantha Davies                     Kim Inc           Medicare   \n",
      "2  Tiffany Mitchell                    Cook PLC              Aetna   \n",
      "3       Kevin Wells  Hernandez Rogers and Vang,           Medicare   \n",
      "4    Kathleen Hanna                 White-White              Aetna   \n",
      "\n",
      "   Billing Amount  Room Number Admission Type Discharge Date   Medication  \\\n",
      "0    18856.281306          328         Urgent     2024-02-02  Paracetamol   \n",
      "1    33643.327287          265      Emergency     2019-08-26    Ibuprofen   \n",
      "2    27955.096079          205      Emergency     2022-10-07      Aspirin   \n",
      "3    37909.782410          450       Elective     2020-12-18    Ibuprofen   \n",
      "4    14238.317814          458         Urgent     2022-10-09   Penicillin   \n",
      "\n",
      "   Test Results  \n",
      "0        Normal  \n",
      "1  Inconclusive  \n",
      "2        Normal  \n",
      "3      Abnormal  \n",
      "4      Abnormal  \n",
      "<class 'pandas.core.frame.DataFrame'>\n",
      "RangeIndex: 55500 entries, 0 to 55499\n",
      "Data columns (total 15 columns):\n",
      " #   Column              Non-Null Count  Dtype  \n",
      "---  ------              --------------  -----  \n",
      " 0   Name                55500 non-null  object \n",
      " 1   Age                 55500 non-null  int64  \n",
      " 2   Gender              55500 non-null  object \n",
      " 3   Blood Type          55500 non-null  object \n",
      " 4   Medical Condition   55500 non-null  object \n",
      " 5   Date of Admission   55500 non-null  object \n",
      " 6   Doctor              55500 non-null  object \n",
      " 7   Hospital            55500 non-null  object \n",
      " 8   Insurance Provider  55500 non-null  object \n",
      " 9   Billing Amount      55500 non-null  float64\n",
      " 10  Room Number         55500 non-null  int64  \n",
      " 11  Admission Type      55500 non-null  object \n",
      " 12  Discharge Date      55500 non-null  object \n",
      " 13  Medication          55500 non-null  object \n",
      " 14  Test Results        55500 non-null  object \n",
      "dtypes: float64(1), int64(2), object(12)\n",
      "memory usage: 6.4+ MB\n",
      "None\n"
     ]
    }
   ],
   "source": [
    "df = pd.read_csv('healthcare_dataset.csv')\n",
    "print(df.head())\n",
    "print(df.info())"
   ]
  },
  {
   "cell_type": "code",
   "execution_count": 5,
   "id": "6aa45cf2-7a5f-4cba-9bdb-f6cb1e2e13f7",
   "metadata": {},
   "outputs": [],
   "source": [
    "df['Date of Admission'] = pd.to_datetime(df['Date of Admission'])\n",
    "df['Discharge Date'] = pd.to_datetime(df['Discharge Date'])"
   ]
  },
  {
   "cell_type": "code",
   "execution_count": 6,
   "id": "bf1c13b9-1fb2-4344-b8f7-73d255cef850",
   "metadata": {},
   "outputs": [],
   "source": [
    "df = df.sort_values(by=['Name', 'Date of Admission'])"
   ]
  },
  {
   "cell_type": "code",
   "execution_count": 8,
   "id": "9e706824-6c88-403d-9452-38833de9d2d1",
   "metadata": {},
   "outputs": [],
   "source": [
    "df['Date of Admission'] = pd.to_datetime(df['Date of Admission'])\n",
    "df['Discharge Date'] = pd.to_datetime(df['Discharge Date'])"
   ]
  },
  {
   "cell_type": "code",
   "execution_count": 9,
   "id": "996e12d6-3065-4709-a69c-cbfd386f5ad5",
   "metadata": {},
   "outputs": [],
   "source": [
    "df = df.sort_values(by=['Name', 'Date of Admission'])\n",
    "df['Readmitted'] = False"
   ]
  },
  {
   "cell_type": "code",
   "execution_count": 7,
   "id": "ee5b4c41-1830-4590-bfe2-4ce7e28e4310",
   "metadata": {},
   "outputs": [],
   "source": [
    "df['Readmitted'] = False"
   ]
  },
  {
   "cell_type": "code",
   "execution_count": 8,
   "id": "ca08a2b5-f288-4243-998f-6f92844e735a",
   "metadata": {},
   "outputs": [],
   "source": [
    "for name, group in df.groupby('Name'):\n",
    "    group = group.sort_values(by='Date of Admission')\n",
    "    discharge_dates = group['Discharge Date'].values[:-1]\n",
    "    next_admission_dates = group['Date of Admission'].values[1:]\n",
    "    readmitted_flags = (next_admission_dates - discharge_dates) <= np.timedelta64(30, 'D')\n",
    "    readmitted_indices = group.index[1:][readmitted_flags]\n",
    "    df.loc[readmitted_indices, 'Readmitted'] = True"
   ]
  },
  {
   "cell_type": "code",
   "execution_count": 9,
   "id": "00965a5e-5e33-405b-b7ea-984bfa9a1666",
   "metadata": {},
   "outputs": [],
   "source": [
    "df['Readmitted'] = df['Readmitted'].astype(int)"
   ]
  },
  {
   "cell_type": "code",
   "execution_count": 10,
   "id": "f4ae5bfa-efc0-40a0-a4c8-d272fc1d7d64",
   "metadata": {},
   "outputs": [],
   "source": [
    "df.columns = df.columns.str.strip().str.lower().str.replace(' ', '_')"
   ]
  },
  {
   "cell_type": "code",
   "execution_count": 11,
   "id": "019baf16-a668-41e6-9b7a-7052bc588ef8",
   "metadata": {},
   "outputs": [],
   "source": [
    "string_cols = df.select_dtypes(include='object').columns\n",
    "df[string_cols] = df[string_cols].apply(lambda col: col.str.strip().str.title())"
   ]
  },
  {
   "cell_type": "code",
   "execution_count": 18,
   "id": "5e51e621-c8ee-4fb5-a27b-90fdb10afadd",
   "metadata": {},
   "outputs": [],
   "source": [
    "string_cols = df.select_dtypes(include='object').columns\n",
    "df[string_cols] = df[string_cols].apply(lambda col: col.str.strip().str.title())"
   ]
  },
  {
   "cell_type": "code",
   "execution_count": 12,
   "id": "5c38a215-2b58-4487-bacd-82d722d9eb57",
   "metadata": {},
   "outputs": [
    {
     "name": "stdout",
     "output_type": "stream",
     "text": [
      "Total patients readmitted within 30 days: 5501\n"
     ]
    }
   ],
   "source": [
    "readmit_count = df['readmitted'].sum()\n",
    "print(f\"Total patients readmitted within 30 days: {readmit_count}\")\n"
   ]
  },
  {
   "cell_type": "code",
   "execution_count": 23,
   "id": "969309ae-de32-45f9-8865-c07aa2acad62",
   "metadata": {},
   "outputs": [
    {
     "name": "stdout",
     "output_type": "stream",
     "text": [
      "Total patients readmitted within 30 days: 5501\n"
     ]
    }
   ],
   "source": [
    "readmit_count = df['readmitted'].sum()\n",
    "print(f\"Total patients readmitted within 30 days: {readmit_count}\")\n"
   ]
  },
  {
   "cell_type": "code",
   "execution_count": 13,
   "id": "f3c75725-52ab-48f8-927a-2264c9ab23c8",
   "metadata": {},
   "outputs": [
    {
     "name": "stdout",
     "output_type": "stream",
     "text": [
      "Percentage of readmitted patients: 9.91%\n"
     ]
    }
   ],
   "source": [
    "total_patients = df.shape[0]\n",
    "percentage = (readmit_count / total_patients) * 100\n",
    "print(f\"Percentage of readmitted patients: {percentage:.2f}%\")"
   ]
  },
  {
   "cell_type": "code",
   "execution_count": 14,
   "id": "bdb6c050-3ab5-43e9-8c3f-01fb327f92f1",
   "metadata": {},
   "outputs": [
    {
     "data": {
      "image/png": "[encoded data removed]",
      "text/plain": [
       "<Figure size 640x480 with 1 Axes>"
      ]
     },
     "metadata": {},
     "output_type": "display_data"
    }
   ],
   "source": [
    "sns.countplot(data=df, x='readmitted')\n",
    "plt.xticks([0, 1], ['Not readmitted', 'Readmitted'])\n",
    "plt.title(\"Hospital Readmission Within 30 Days\")\n",
    "plt.xlabel(\"Readmission Status\")\n",
    "plt.ylabel(\"Number of Patients\")\n",
    "plt.show()"
   ]
  },
  {
   "cell_type": "code",
   "execution_count": 17,
   "id": "a8df164b-c927-42c9-b102-bc79c5417285",
   "metadata": {},
   "outputs": [
    {
     "name": "stdout",
     "output_type": "stream",
     "text": [
      "Top 5 Medical Conditions Leading to Readmission (within 30 days):\n",
      "medical_condition\n",
      "Obesity         939\n",
      "Cancer          934\n",
      "Hypertension    926\n",
      "Diabetes        920\n",
      "Asthma          913\n",
      "dtype: int64\n"
     ]
    }
   ],
   "source": [
    "condition_readmit_30 = (\n",
    "    df[df['readmitted'] == 1]\n",
    "    .groupby('medical_condition')\n",
    "    .size()\n",
    "    .sort_values(ascending=False)\n",
    ")\n",
    "print(\"Top 5 Medical Conditions Leading to Readmission (within 30 days):\")\n",
    "print(condition_readmit_30.head(5))\n"
   ]
  },
  {
   "cell_type": "code",
   "execution_count": 18,
   "id": "2e7640e9-5d8e-4a0c-9f40-4d407d27b37f",
   "metadata": {},
   "outputs": [],
   "source": [
    "df_clean = df.drop(columns=['name', 'doctor', 'hospital', 'room_number'])\n"
   ]
  },
  {
   "cell_type": "code",
   "execution_count": 19,
   "id": "8c13f878-962d-498c-b0e7-3963e4ef34c4",
   "metadata": {},
   "outputs": [],
   "source": [
    "label_encoders = {}\n",
    "for col in df_clean.select_dtypes(include='object').columns:\n",
    "    le = LabelEncoder()\n",
    "    df_clean[col] = le.fit_transform(df_clean[col])\n",
    "    label_encoders[col] = le"
   ]
  },
  {
   "cell_type": "code",
   "execution_count": 20,
   "id": "055a259d-856a-4f95-87ad-8f84d28404b8",
   "metadata": {},
   "outputs": [
    {
     "name": "stdout",
     "output_type": "stream",
     "text": [
      "age                   0\n",
      "gender                0\n",
      "blood_type            0\n",
      "medical_condition     0\n",
      "date_of_admission     0\n",
      "insurance_provider    0\n",
      "billing_amount        0\n",
      "admission_type        0\n",
      "discharge_date        0\n",
      "medication            0\n",
      "test_results          0\n",
      "readmitted            0\n",
      "dtype: int64\n"
     ]
    }
   ],
   "source": [
    "print(df_clean.isnull().sum())"
   ]
  },
  {
   "cell_type": "code",
   "execution_count": 21,
   "id": "d7a9474a-c7da-4f74-9a7b-4f4a0d7c5b83",
   "metadata": {},
   "outputs": [
    {
     "name": "stderr",
     "output_type": "stream",
     "text": [
      "C:\\Users\\rabad\\AppData\\Local\\Temp\\ipykernel_652\\296973066.py:4: FutureWarning: \n",
      "\n",
      "Passing `palette` without assigning `hue` is deprecated and will be removed in v0.14.0. Assign the `y` variable to `hue` and set `legend=False` for the same effect.\n",
      "\n",
      "  sns.barplot(\n"
     ]
    },
    {
     "data": {
      "image/png": "[encoded data removed]",
      "text/plain": [
       "<Figure size 800x500 with 1 Axes>"
      ]
     },
     "metadata": {},
     "output_type": "display_data"
    }
   ],
   "source": [
    "top_conditions = condition_readmit_30.head(5)\n",
    "\n",
    "plt.figure(figsize=(8, 5))\n",
    "sns.barplot(\n",
    "    x=top_conditions.values,\n",
    "    y=top_conditions.index,\n",
    "    palette=\"magma\"\n",
    ")\n",
    "plt.title(\"Top 5 Medical Conditions Leading to Readmission (Within 30 Days)\", fontsize=14)\n",
    "plt.xlabel(\"Number of Readmissions\")\n",
    "plt.ylabel(\"Medical Condition\")\n",
    "plt.tight_layout()\n",
    "plt.show()"
   ]
  },
  {
   "cell_type": "code",
   "execution_count": 22,
   "id": "4d4a515d-9a07-4b51-8bc5-b1f25a20718f",
   "metadata": {},
   "outputs": [],
   "source": [
    "X = df_clean.drop(columns=['readmitted'])\n",
    "y = df_clean['readmitted']"
   ]
  },
  {
   "cell_type": "code",
   "execution_count": 23,
   "id": "77b005b4-ad31-4392-9ac7-3f25fc960740",
   "metadata": {},
   "outputs": [],
   "source": [
    "X_train, X_test, y_train, y_test = train_test_split(\n",
    "    X, y, \n",
    "    test_size=0.2, \n",
    "    random_state=42, \n",
    "    stratify=y\n",
    ")"
   ]
  },
  {
   "cell_type": "code",
   "execution_count": 26,
   "id": "97c58118-8e00-47ab-828b-715606298d6e",
   "metadata": {},
   "outputs": [
    {
     "name": "stdout",
     "output_type": "stream",
     "text": [
      "Accuracy: 0.8693\n",
      "Confusion Matrix:\n",
      "[[9608  392]\n",
      " [1059   41]]\n",
      "\n",
      "Classification Report:\n",
      "              precision    recall  f1-score   support\n",
      "\n",
      "           0       0.90      0.96      0.93     10000\n",
      "           1       0.09      0.04      0.05      1100\n",
      "\n",
      "    accuracy                           0.87     11100\n",
      "   macro avg       0.50      0.50      0.49     11100\n",
      "weighted avg       0.82      0.87      0.84     11100\n",
      "\n"
     ]
    }
   ],
   "source": [
    "from sklearn.ensemble import RandomForestClassifier\n",
    "from sklearn.metrics import classification_report, confusion_matrix, accuracy_score\n",
    "\n",
    "# Drop datetime columns from X\n",
    "X = df_clean.drop(columns=['readmitted', 'date_of_admission', 'discharge_date'], errors='ignore')\n",
    "y = df_clean['readmitted']\n",
    "\n",
    "# Split data\n",
    "from sklearn.model_selection import train_test_split\n",
    "X_train, X_test, y_train, y_test = train_test_split(\n",
    "    X, y, test_size=0.2, random_state=42, stratify=y\n",
    ")\n",
    "\n",
    "# Initialize and train model\n",
    "rf_model = RandomForestClassifier(random_state=42)\n",
    "rf_model.fit(X_train, y_train)\n",
    "\n",
    "# Predict\n",
    "y_pred = rf_model.predict(X_test)\n",
    "\n",
    "# Evaluation\n",
    "print(f\"Accuracy: {accuracy_score(y_test, y_pred):.4f}\")\n",
    "print(\"Confusion Matrix:\")\n",
    "print(confusion_matrix(y_test, y_pred))\n",
    "print(\"\\nClassification Report:\")\n",
    "print(classification_report(y_test, y_pred))\n"
   ]
  },
  {
   "cell_type": "code",
   "execution_count": 27,
   "id": "fb00cd9b-699e-4d40-9304-9cfa4ded1cdf",
   "metadata": {},
   "outputs": [
    {
     "data": {
      "text/plain": [
       "['label_encoders.pkl']"
      ]
     },
     "execution_count": 27,
     "metadata": {},
     "output_type": "execute_result"
    }
   ],
   "source": [
    "import joblib\n",
    "\n",
    "\n",
    "joblib.dump(rf_model, 'readmission_model.pkl')\n",
    "joblib.dump(label_encoders, 'label_encoders.pkl')\n"
   ]
  },
  {
   "cell_type": "code",
   "execution_count": 28,
   "id": "c3aa939c-3054-42e5-ae9d-03751a13e1eb",
   "metadata": {},
   "outputs": [
    {
     "data": {
      "text/plain": [
       "['model_features.pkl']"
      ]
     },
     "execution_count": 28,
     "metadata": {},
     "output_type": "execute_result"
    }
   ],
   "source": [
    "joblib.dump(X_train.columns.tolist(), 'model_features.pkl')"
   ]
  },
  {
   "cell_type": "code",
   "execution_count": null,
   "id": "d4177760-138b-4a1a-9e92-83406a62fd39",
   "metadata": {},
   "outputs": [],
   "source": []
  }
 ],
 "metadata": {
  "kernelspec": {
   "display_name": "Python 3 (ipykernel)",
   "language": "python",
   "name": "python3"
  },
  "language_info": {
   "codemirror_mode": {
    "name": "ipython",
    "version": 3
   },
   "file_extension": ".py",
   "mimetype": "text/x-python",
   "name": "python",
   "nbconvert_exporter": "python",
   "pygments_lexer": "ipython3",
   "version": "3.13.1"
  }
 },
 "nbformat": 4,
 "nbformat_minor": 5
}
